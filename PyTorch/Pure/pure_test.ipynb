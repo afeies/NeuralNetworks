{
 "cells": [
  {
   "cell_type": "markdown",
   "metadata": {},
   "source": [
    "## torch.randn(rows, cols)"
   ]
  },
  {
   "cell_type": "code",
   "execution_count": 2,
   "metadata": {},
   "outputs": [
    {
     "data": {
      "text/plain": [
       "tensor([[-0.0099, -0.2338],\n",
       "        [ 0.7707, -1.1672],\n",
       "        [ 1.6627,  1.4071],\n",
       "        [-1.4407, -0.4199],\n",
       "        [-0.1443,  0.4287]])"
      ]
     },
     "execution_count": 2,
     "metadata": {},
     "output_type": "execute_result"
    }
   ],
   "source": [
    "import torch\n",
    "\n",
    "x0 = torch.randn(5, 2)\n",
    "x0"
   ]
  },
  {
   "cell_type": "markdown",
   "metadata": {},
   "source": [
    "## torch.cat([tensor1, tensor2], dim)"
   ]
  },
  {
   "cell_type": "code",
   "execution_count": 3,
   "metadata": {},
   "outputs": [
    {
     "data": {
      "text/plain": [
       "tensor([[-0.0099, -0.2338],\n",
       "        [ 0.7707, -1.1672],\n",
       "        [ 1.6627,  1.4071],\n",
       "        [-1.4407, -0.4199],\n",
       "        [-0.1443,  0.4287],\n",
       "        [ 0.1906,  0.8119],\n",
       "        [-1.4406,  0.2768],\n",
       "        [ 0.3436,  0.9094],\n",
       "        [-0.8552,  1.8666],\n",
       "        [-0.2832, -0.9620]])"
      ]
     },
     "execution_count": 3,
     "metadata": {},
     "output_type": "execute_result"
    }
   ],
   "source": [
    "x1 = torch.randn(5, 2)\n",
    "\n",
    "# dim=0 operate down the rows, across cols\n",
    "# (10, 2): changes row\n",
    "vert = torch.cat([x0, x1], dim=0)\n",
    "vert"
   ]
  },
  {
   "cell_type": "code",
   "execution_count": 5,
   "metadata": {},
   "outputs": [
    {
     "data": {
      "text/plain": [
       "tensor([[-0.0099, -0.2338,  0.1906,  0.8119],\n",
       "        [ 0.7707, -1.1672, -1.4406,  0.2768],\n",
       "        [ 1.6627,  1.4071,  0.3436,  0.9094],\n",
       "        [-1.4407, -0.4199, -0.8552,  1.8666],\n",
       "        [-0.1443,  0.4287, -0.2832, -0.9620]])"
      ]
     },
     "execution_count": 5,
     "metadata": {},
     "output_type": "execute_result"
    }
   ],
   "source": [
    "# dim=1 operate across the cols, within each row\n",
    "# (5, 4): changes col\n",
    "horiz = torch.cat([x0, x1], dim=1)\n",
    "horiz"
   ]
  },
  {
   "cell_type": "markdown",
   "metadata": {},
   "source": [
    "## requires_grad=True\n",
    "- tells PyTorch to track a tensor for automatic differentiation"
   ]
  },
  {
   "cell_type": "code",
   "execution_count": 12,
   "metadata": {},
   "outputs": [
    {
     "name": "stdout",
     "output_type": "stream",
     "text": [
      "tensor([[-1.2510,  0.2350],\n",
      "        [-1.2510,  0.2350],\n",
      "        [-1.2510,  0.2350],\n",
      "        [-1.2510,  0.2350]])\n",
      "None\n"
     ]
    }
   ],
   "source": [
    "W1 = torch.randn(4, 2, requires_grad=True)\n",
    "W2 = torch.randn(4, 2)\n",
    "x = torch.randn(2, 4)\n",
    "\n",
    "y1 = (W1 @ x).sum()\n",
    "y2 = (W2 @ x).sum()\n",
    "y1.backward()\n",
    "# error: y2.backward()\n",
    "\n",
    "print(W1.grad)\n",
    "print(W2.grad)"
   ]
  },
  {
   "cell_type": "markdown",
   "metadata": {},
   "source": [
    "## torch.clamp(tensor, min, max)\n",
    "- clamp to avoid log(0)"
   ]
  },
  {
   "cell_type": "code",
   "execution_count": 18,
   "metadata": {},
   "outputs": [
    {
     "name": "stdout",
     "output_type": "stream",
     "text": [
      "tensor([[ -8.2506,  -0.4817],\n",
      "        [-14.9823,   3.5555]])\n",
      "tensor([[-5.0000, -0.4817],\n",
      "        [-5.0000,  3.5555]])\n"
     ]
    }
   ],
   "source": [
    "z = torch.randn(2, 2) * 10\n",
    "print(z)\n",
    "\n",
    "clamp = torch.clamp(z, -5, 5)\n",
    "print(clamp)"
   ]
  },
  {
   "cell_type": "markdown",
   "metadata": {},
   "source": [
    "## torch.log(tensor)\n",
    "- base e\n",
    "- loge(x) = ln(x)\n",
    "    - ln(0) = -inf\n",
    "    - ln(1) = 0\n",
    "    - ln(2) = 0.6931"
   ]
  },
  {
   "cell_type": "code",
   "execution_count": 21,
   "metadata": {},
   "outputs": [
    {
     "name": "stdout",
     "output_type": "stream",
     "text": [
      "tensor([[1, 2],\n",
      "        [1, 2]])\n",
      "tensor([[0.0000, 0.6931],\n",
      "        [0.0000, 0.6931]])\n"
     ]
    }
   ],
   "source": [
    "t = torch.tensor([[1, 2],\n",
    "                  [1, 2]])\n",
    "print(t)\n",
    "log = torch.log(t)\n",
    "print(log)"
   ]
  }
 ],
 "metadata": {
  "kernelspec": {
   "display_name": "venv",
   "language": "python",
   "name": "python3"
  },
  "language_info": {
   "codemirror_mode": {
    "name": "ipython",
    "version": 3
   },
   "file_extension": ".py",
   "mimetype": "text/x-python",
   "name": "python",
   "nbconvert_exporter": "python",
   "pygments_lexer": "ipython3",
   "version": "3.13.5"
  }
 },
 "nbformat": 4,
 "nbformat_minor": 2
}

{
 "cells": [
  {
   "cell_type": "markdown",
   "metadata": {},
   "source": [
    "## Clean Neural Network Implementation"
   ]
  },
  {
   "cell_type": "code",
   "execution_count": 1,
   "metadata": {},
   "outputs": [
    {
     "name": "stdout",
     "output_type": "stream",
     "text": [
      "Epoch 0, Loss: 0.6945\n",
      "Epoch 100, Loss: 0.0478\n",
      "Epoch 200, Loss: 0.0104\n",
      "Epoch 300, Loss: 0.0047\n",
      "Epoch 400, Loss: 0.0027\n",
      "Epoch 500, Loss: 0.0018\n",
      "Epoch 600, Loss: 0.0013\n",
      "Epoch 700, Loss: 0.0010\n",
      "Epoch 800, Loss: 0.0007\n",
      "Epoch 900, Loss: 0.0006\n"
     ]
    }
   ],
   "source": [
    "import torch\n",
    "import torch.nn as nn\n",
    "import torch.optim as optim\n",
    "from sklearn.datasets import make_classification\n",
    "from sklearn.model_selection import train_test_split\n",
    "\n",
    "X, y = make_classification(n_samples=100, n_features=2, n_informative=2,\n",
    "                           n_redundant=0, n_clusters_per_class=1, random_state=42)\n",
    "\n",
    "X_train, X_test, y_train, y_test = train_test_split(X, y, test_size=0.2, random_state=42)\n",
    "\n",
    "X_train = torch.tensor(X_train, dtype=torch.float32)\n",
    "y_train = torch.tensor(y_train.reshape(-1, 1), dtype=torch.float32)\n",
    "X_test = torch.tensor(X_test, dtype=torch.float32)\n",
    "y_test = torch.tensor(y_test.reshape(-1, 1), dtype=torch.float32)\n",
    "\n",
    "class SimpleNN(nn.Module):\n",
    "    def __init__(self):\n",
    "        super(SimpleNN, self).__init__()\n",
    "        self.hidden = nn.Linear(2, 4)\n",
    "        self.output = nn.Linear(4, 1)\n",
    "        self.activation = nn.ReLU()\n",
    "        self.sigmoid = nn.Sigmoid()\n",
    "\n",
    "    def forward(self, x):\n",
    "        x = self.activation(self.hidden(x))\n",
    "        x = self.sigmoid(self.output(x))\n",
    "        return x\n",
    "\n",
    "model = SimpleNN()\n",
    "criterion = nn.BCELoss()\n",
    "optimizer = optim.Adam(model.parameters(), lr=0.01)\n",
    "\n",
    "epochs = 1000\n",
    "for epoch in range(epochs):\n",
    "    outputs = model(X_train)\n",
    "    loss = criterion(outputs, y_train)\n",
    "    optimizer.zero_grad()\n",
    "    loss.backward()\n",
    "    optimizer.step()\n",
    "    if epoch % 100 == 0:\n",
    "        print(f\"Epoch {epoch}, Loss: {loss.item():.4f}\")"
   ]
  },
  {
   "cell_type": "markdown",
   "metadata": {},
   "source": [
    "## Model Evaluation"
   ]
  },
  {
   "cell_type": "code",
   "execution_count": 2,
   "metadata": {},
   "outputs": [
    {
     "name": "stdout",
     "output_type": "stream",
     "text": [
      "Sample | True Label | Predicted Label | Probability\n",
      "-------|------------|-----------------|------------\n",
      "0      |     0      |        0        | 0.0007\n",
      "1      |     0      |        0        | 0.0001\n",
      "2      |     1      |        1        | 0.9995\n",
      "3      |     1      |        1        | 0.9949\n",
      "4      |     0      |        0        | 0.0003\n",
      "5      |     0      |        0        | 0.0002\n",
      "6      |     0      |        0        | 0.0002\n",
      "7      |     1      |        1        | 0.9995\n",
      "8      |     0      |        0        | 0.0003\n",
      "9      |     0      |        0        | 0.0004\n",
      "\n",
      "Test Accuracy: 100.00%\n"
     ]
    }
   ],
   "source": [
    "with torch.no_grad():\n",
    "    y_pred_probs = model(X_test)\n",
    "    y_pred = (y_pred_probs > 0.5).float()\n",
    "    accuracy = (y_pred == y_test).float().mean()\n",
    "\n",
    "    print(\"Sample | True Label | Predicted Label | Probability\")\n",
    "    print(\"-------|------------|-----------------|------------\")\n",
    "    for i in range(10):\n",
    "        true = int(y_test[i].item())\n",
    "        pred = int(y_pred[i].item())\n",
    "        prob = float(y_pred_probs[i].item())\n",
    "        print(f\"{i:<6} | {true:^10} | {pred:^15} | {prob:.4f}\")\n",
    "\n",
    "    print(f\"\\nTest Accuracy: {accuracy.item() * 100:.2f}%\")"
   ]
  },
  {
   "cell_type": "code",
   "execution_count": 3,
   "metadata": {},
   "outputs": [
    {
     "data": {
      "image/png": "[encoded data removed]",
      "text/plain": [
       "<Figure size 640x480 with 1 Axes>"
      ]
     },
     "metadata": {},
     "output_type": "display_data"
    }
   ],
   "source": [
    "import numpy as np\n",
    "import matplotlib.pyplot as plt\n",
    "\n",
    "def plot_decision_boundary(model, X, y):\n",
    "    x_min, x_max = X[:, 0].min() - 0.5, X[:, 0].max() + 0.5\n",
    "    y_min, y_max = X[:, 1].min() - 0.5, X[:, 1].max() + 0.5\n",
    "    xx, yy = np.meshgrid(np.linspace(x_min, x_max, 200),\n",
    "                         np.linspace(y_min, y_max, 200))\n",
    "    grid = torch.tensor(np.c_[xx.ravel(), yy.ravel()], dtype=torch.float32)\n",
    "\n",
    "    with torch.no_grad():\n",
    "        probs = model(grid).reshape(xx.shape)\n",
    "\n",
    "    plt.contourf(xx, yy, probs, levels=[0, 0.5, 1], alpha=0.3, cmap=\"bwr\")\n",
    "    plt.scatter(X[:, 0], X[:, 1], c=y.squeeze(), cmap=\"bwr\", edgecolor=\"k\")\n",
    "    plt.title(\"Decision Boundary\")\n",
    "    plt.xlabel(\"Feature 1\")\n",
    "    plt.ylabel(\"Feature 2\")\n",
    "    plt.grid(True)\n",
    "    plt.show()\n",
    "\n",
    "plot_decision_boundary(model, X_test.numpy(), y_test.numpy())"
   ]
  }
 ],
 "metadata": {
  "kernelspec": {
   "display_name": "venv",
   "language": "python",
   "name": "python3"
  },
  "language_info": {
   "codemirror_mode": {
    "name": "ipython",
    "version": 3
   },
   "file_extension": ".py",
   "mimetype": "text/x-python",
   "name": "python",
   "nbconvert_exporter": "python",
   "pygments_lexer": "ipython3",
   "version": "3.13.5"
  }
 },
 "nbformat": 4,
 "nbformat_minor": 2
}

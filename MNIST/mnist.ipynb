{
 "cells": [
  {
   "cell_type": "markdown",
   "metadata": {},
   "source": [
    "## MNIST Digit Classifier (2 -> 128 -> 64 -> 10)\n",
    "\n",
    "Neural network in PyTorch to classify handwritten digits (0-9) from the MNIST dataset.\n",
    "\n",
    "- load and explore MNIST dataset\n",
    "- build a simple feedforward neural netowrk using nn.Module\n",
    "- train and evaluate the model\n",
    "- visualize predictions\n",
    "\n",
    "Dataset: 28x28 grayscale images of digits (0-9)\n",
    "\n",
    "Architecture:\n",
    "- input layer: 784 units (flattened 28x28)\n",
    "- hidden layers: 128 -> 64\n",
    "- output layer: 10 units (one per digit)\n"
   ]
  },
  {
   "cell_type": "markdown",
   "metadata": {},
   "source": [
    "## Import Libraries"
   ]
  },
  {
   "cell_type": "code",
   "execution_count": 1,
   "metadata": {},
   "outputs": [],
   "source": [
    "import torch\n",
    "import torch.nn as nn\n",
    "# a module that provides functions for operations used in neural networks\n",
    "# e.g. F.relu, F.cross_entropy, F.softmax\n",
    "import torch.nn.functional as F\n",
    "import torch.optim as optim\n",
    "\n",
    "# a library that provides standard datasets like MNIST,\n",
    "# common image transformations, and pretrained models\n",
    "import torchvision\n",
    "from torchvision import datasets, transforms\n",
    "\n",
    "# a module that helps with data loading and batching\n",
    "from torch.utils.data import DataLoader     \n",
    "\n",
    "import matplotlib.pyplot as plt\n",
    "import numpy as np"
   ]
  },
  {
   "cell_type": "markdown",
   "metadata": {},
   "source": [
    "## Load the MNIST Dataset"
   ]
  },
  {
   "cell_type": "code",
   "execution_count": 2,
   "metadata": {},
   "outputs": [
    {
     "name": "stderr",
     "output_type": "stream",
     "text": [
      "100.0%\n",
      "100.0%\n",
      "100.0%\n",
      "100.0%\n"
     ]
    }
   ],
   "source": [
    "# convert each image from a PIL image to a tensor\n",
    "transform = transforms.ToTensor()\n",
    "\n",
    "# 60000 training samples and 10000 test samples\n",
    "train_data = datasets.MNIST(root='./data', train=True, download=True, transform=transform)\n",
    "test_data = datasets.MNIST(root='./data', train=False, download=True, transform=transform)\n",
    "\n",
    "train_loader = DataLoader(train_data, batch_size=64, shuffle=True)\n",
    "test_loader = DataLoader(test_data, batch_size=64, shuffle=False)"
   ]
  },
  {
   "cell_type": "markdown",
   "metadata": {},
   "source": [
    "## Visualize Some Sample Images"
   ]
  },
  {
   "cell_type": "code",
   "execution_count": 3,
   "metadata": {},
   "outputs": [
    {
     "data": {
      "image/png": "[encoded data removed]",
      "text/plain": [
       "<Figure size 800x400 with 6 Axes>"
      ]
     },
     "metadata": {},
     "output_type": "display_data"
    }
   ],
   "source": [
    "examples = enumerate(train_loader)\n",
    "batch_idx, (example_data, example_targets) = next(examples)\n",
    "\n",
    "fig = plt.figure(figsize=(8, 4))\n",
    "for i in range(6):\n",
    "    plt.subplot(2, 3, i + 1)\n",
    "    plt.tight_layout()\n",
    "    plt.imshow(example_data[i][0], cmap='gray', interpolation='none')\n",
    "    plt.title(f\"Label: {example_targets[i].item()}\")\n",
    "    plt.xticks([])\n",
    "    plt.yticks([])"
   ]
  },
  {
   "cell_type": "markdown",
   "metadata": {},
   "source": [
    "## Define the Neural Network Architecture"
   ]
  },
  {
   "cell_type": "code",
   "execution_count": 4,
   "metadata": {},
   "outputs": [
    {
     "name": "stdout",
     "output_type": "stream",
     "text": [
      "net.1.weight torch.Size([128, 784])\n",
      "net.1.bias torch.Size([128])\n",
      "net.3.weight torch.Size([64, 128])\n",
      "net.3.bias torch.Size([64])\n",
      "net.5.weight torch.Size([10, 64])\n",
      "net.5.bias torch.Size([10])\n"
     ]
    }
   ],
   "source": [
    "class MNISTClassifier(nn.Module):\n",
    "    def __init__(self):\n",
    "        super().__init__()\n",
    "        self.net = nn.Sequential(\n",
    "            nn.Flatten(),           # flatten 1x28x28 -> 784\n",
    "            nn.Linear(784, 128),    # input layer -> hidden layer 1\n",
    "            nn.ReLU(),\n",
    "            nn.Linear(128, 64),     # hidden layer 1 -> hidden layer 2\n",
    "            nn.ReLU(),\n",
    "            nn.Linear(64, 10)       # hidden layer 2 -> output layer\n",
    "        )\n",
    "\n",
    "    def forward(self, x):\n",
    "        return self.net(x)\n",
    "\n",
    "model = MNISTClassifier()\n",
    "\n",
    "# check parameters\n",
    "# x in net.x refers to the index in nn.Sequential\n",
    "for name, param in model.named_parameters():\n",
    "    if param.requires_grad:\n",
    "        print(name, param.shape)"
   ]
  },
  {
   "cell_type": "markdown",
   "metadata": {},
   "source": [
    "## Define the Loss Function and Optimizer\n",
    "### Additional Notes\n",
    "- binary cross-entropy loss is used for binary classification problems\n",
    "- cross entropy loss is used for multi-class classification problems\n",
    "    - log softmax: converts model outputs (logits) into log-probabilities\n",
    "    - negative log-likelihood: penalizes low probability on the correct class"
   ]
  },
  {
   "cell_type": "code",
   "execution_count": 5,
   "metadata": {},
   "outputs": [],
   "source": [
    "loss_fn = nn.CrossEntropyLoss()\n",
    "optimizer = optim.Adam(model.parameters(), lr=0.001)"
   ]
  },
  {
   "cell_type": "markdown",
   "metadata": {},
   "source": [
    "## Train the Model\n",
    "### Additional Notes\n",
    "- model.train(): enables training-specific behaviors\n",
    "    - Dropout: randomly zeros out neurons\n",
    "    - BatchNorm: computes running mean/variance from the batch\n",
    "\n",
    "- for images, labels in train_loader\n",
    "    - each iterations gives a mini-batch of:\n",
    "        - images: a tensor of shape [batch_size=64, channels=1, height=28, width=28]\n",
    "        - labels: a tensor of shape [batch_size=64]\n",
    "            - correct class of each image (e.g. [4, 0, 1, ...])"
   ]
  },
  {
   "cell_type": "code",
   "execution_count": 6,
   "metadata": {},
   "outputs": [
    {
     "name": "stdout",
     "output_type": "stream",
     "text": [
      "Epoch 1/5, Loss: 0.3475\n",
      "Epoch 2/5, Loss: 0.1475\n",
      "Epoch 3/5, Loss: 0.0989\n",
      "Epoch 4/5, Loss: 0.0731\n",
      "Epoch 5/5, Loss: 0.0575\n"
     ]
    }
   ],
   "source": [
    "epochs = 5\n",
    "\n",
    "for epoch in range(epochs):\n",
    "    # set to training mode\n",
    "    model.train()\n",
    "    total_loss = 0\n",
    "\n",
    "    # loop over batches from DataLoader\n",
    "    for images, labels in train_loader:\n",
    "        # forward pass\n",
    "        outputs = model(images)\n",
    "        loss = loss_fn(outputs, labels)\n",
    "\n",
    "        # backward pass and optimization\n",
    "        optimizer.zero_grad()\n",
    "        loss.backward()\n",
    "        optimizer.step()\n",
    "\n",
    "        total_loss += loss.item()\n",
    "    \n",
    "    avg_loss = total_loss / len(train_loader)\n",
    "    print(f\"Epoch {epoch+1}/{epochs}, Loss: {avg_loss:.4f}\")"
   ]
  }
 ],
 "metadata": {
  "kernelspec": {
   "display_name": "venv",
   "language": "python",
   "name": "python3"
  },
  "language_info": {
   "codemirror_mode": {
    "name": "ipython",
    "version": 3
   },
   "file_extension": ".py",
   "mimetype": "text/x-python",
   "name": "python",
   "nbconvert_exporter": "python",
   "pygments_lexer": "ipython3",
   "version": "3.13.5"
  }
 },
 "nbformat": 4,
 "nbformat_minor": 2
}

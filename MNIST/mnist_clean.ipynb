{
 "cells": [
  {
   "cell_type": "markdown",
   "metadata": {},
   "source": [
    "## Clean Neural Network"
   ]
  },
  {
   "cell_type": "code",
   "execution_count": 1,
   "metadata": {},
   "outputs": [
    {
     "name": "stdout",
     "output_type": "stream",
     "text": [
      "Epoch 1/5, Loss: 0.3421\n",
      "Epoch 2/5, Loss: 0.1494\n",
      "Epoch 3/5, Loss: 0.1004\n",
      "Epoch 4/5, Loss: 0.0755\n",
      "Epoch 5/5, Loss: 0.0584\n"
     ]
    }
   ],
   "source": [
    "import torch\n",
    "import torch.nn as nn\n",
    "import torch.optim as optim\n",
    "from torchvision import datasets, transforms\n",
    "from torch.utils.data import DataLoader\n",
    "\n",
    "transform = transforms.ToTensor()\n",
    "train_data = datasets.MNIST(root='./data', train=True, download=True, transform=transform)\n",
    "test_data = datasets.MNIST(root='./data', train=False, download=True, transform=transform)\n",
    "train_loader = DataLoader(train_data, batch_size=64, shuffle=True)\n",
    "test_loader = DataLoader(test_data, batch_size=64, shuffle=False)\n",
    "\n",
    "class MNISTClassifier(nn.Module):\n",
    "    def __init__(self):\n",
    "        super().__init__()\n",
    "        self.net = nn.Sequential(\n",
    "            nn.Flatten(),\n",
    "            nn.Linear(784, 128),\n",
    "            nn.ReLU(),\n",
    "            nn.Linear(128, 64),\n",
    "            nn.ReLU(),\n",
    "            nn.Linear(64, 10)\n",
    "        )\n",
    "    def forward(self, x):\n",
    "        return self.net(x)\n",
    "\n",
    "model = MNISTClassifier()\n",
    "loss_fn = nn.CrossEntropyLoss()\n",
    "optimizer = optim.Adam(model.parameters(), lr=0.001)\n",
    "\n",
    "epochs = 5\n",
    "for epoch in range(epochs):\n",
    "    model.train()\n",
    "    total_loss = 0\n",
    "    for images, labels in train_loader:\n",
    "        outputs = model(images)\n",
    "        loss = loss_fn(outputs, labels)\n",
    "        optimizer.zero_grad()\n",
    "        loss.backward()\n",
    "        optimizer.step()\n",
    "        total_loss += loss.item()\n",
    "    avg_loss = total_loss / len(train_loader)\n",
    "    print(f\"Epoch {epoch+1}/{epochs}, Loss: {avg_loss:.4f}\")"
   ]
  },
  {
   "cell_type": "markdown",
   "metadata": {},
   "source": [
    "## Model Evaluation"
   ]
  },
  {
   "cell_type": "code",
   "execution_count": 2,
   "metadata": {},
   "outputs": [
    {
     "name": "stdout",
     "output_type": "stream",
     "text": [
      "Sample 1 | True Label: 7 | Predicted: 7 | Probability: 0.9994\n",
      "Sample 2 | True Label: 2 | Predicted: 2 | Probability: 0.9999\n",
      "Sample 3 | True Label: 1 | Predicted: 1 | Probability: 0.9871\n",
      "Sample 4 | True Label: 0 | Predicted: 0 | Probability: 1.0000\n",
      "Sample 5 | True Label: 4 | Predicted: 4 | Probability: 0.9983\n",
      "Sample 6 | True Label: 1 | Predicted: 1 | Probability: 0.9983\n",
      "Sample 7 | True Label: 4 | Predicted: 4 | Probability: 0.9993\n",
      "Sample 8 | True Label: 9 | Predicted: 9 | Probability: 0.9663\n",
      "Sample 9 | True Label: 5 | Predicted: 5 | Probability: 0.9568\n",
      "Sample 10 | True Label: 9 | Predicted: 9 | Probability: 0.9998\n",
      "\n",
      "Final Test Accuracy: 97.48%\n"
     ]
    }
   ],
   "source": [
    "import torch.nn.functional as F\n",
    "\n",
    "model.eval()\n",
    "correct = 0\n",
    "total = 0\n",
    "\n",
    "samples_shown = 0\n",
    "\n",
    "with torch.no_grad():\n",
    "    for images, labels in test_loader:\n",
    "        outputs = model(images)\n",
    "        probs = F.softmax(outputs, dim=1)\n",
    "        _, preds = torch.max(outputs, dim=1)\n",
    "\n",
    "        for i in range(10):\n",
    "            if samples_shown < 10:\n",
    "                label = labels[i].item()\n",
    "                pred = preds[i].item()\n",
    "                prob = probs[i][pred].item()\n",
    "                print(f\"Sample {samples_shown+1} | True Label: {label} | Predicted: {pred} | Probability: {prob:.4f}\")\n",
    "                samples_shown += 1\n",
    "\n",
    "        correct += (preds == labels).sum().item()\n",
    "        total += labels.size(0)\n",
    "\n",
    "accuracy = correct / total\n",
    "print(f\"\\nFinal Test Accuracy: {accuracy * 100:.2f}%\")"
   ]
  }
 ],
 "metadata": {
  "kernelspec": {
   "display_name": "venv",
   "language": "python",
   "name": "python3"
  },
  "language_info": {
   "codemirror_mode": {
    "name": "ipython",
    "version": 3
   },
   "file_extension": ".py",
   "mimetype": "text/x-python",
   "name": "python",
   "nbconvert_exporter": "python",
   "pygments_lexer": "ipython3",
   "version": "3.13.5"
  }
 },
 "nbformat": 4,
 "nbformat_minor": 2
}

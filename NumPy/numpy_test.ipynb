{
 "cells": [
  {
   "cell_type": "markdown",
   "metadata": {},
   "source": [
    "## Numpy ndarray (for math and no gradients)\n",
    "- general scientific computing on CPU\n",
    "- no built-in gradients\n",
    "- manual nns\n",
    "- SciPy, scikit-learn, pandas, matplotlib\n",
    "## Pytorch Tensor (for GPU acceleration and autograd)\n",
    "- deep learning and tensor match on CPU and GPU\n",
    "- requires_grad=True, automatic backprop (autograd)\n",
    "- modules for nns: nn, optim, DataLoader\n",
    "\n",
    "### CPU (Central Processing Unit)\n",
    "- few tasks at once\n",
    "    - general purpose\n",
    "\n",
    "### GPU (Graphics Processing Unit)\n",
    "- many small tasks at once\n",
    "    - like matrix multiplications in deep learning"
   ]
  },
  {
   "cell_type": "code",
   "execution_count": 1,
   "metadata": {},
   "outputs": [
    {
     "data": {
      "text/plain": [
       "array([[-0.27872697,  0.61780114],\n",
       "       [-0.44446921, -0.53913512],\n",
       "       [ 0.05870961,  0.12816029]])"
      ]
     },
     "execution_count": 1,
     "metadata": {},
     "output_type": "execute_result"
    }
   ],
   "source": [
    "import numpy as np\n",
    "\n",
    "x = np.random.randn(3, 2)\n",
    "x"
   ]
  },
  {
   "cell_type": "code",
   "execution_count": 5,
   "metadata": {},
   "outputs": [
    {
     "name": "stdout",
     "output_type": "stream",
     "text": [
      "[-0.27872697  0.61780114]\n",
      "[0.05870961 0.12816029]\n"
     ]
    }
   ],
   "source": [
    "# first row\n",
    "print(x[0, :])\n",
    "\n",
    "# third row\n",
    "print(x[2, :])\n",
    "\n",
    "# index error: print(x[4, :])"
   ]
  },
  {
   "cell_type": "code",
   "execution_count": 6,
   "metadata": {},
   "outputs": [
    {
     "name": "stdout",
     "output_type": "stream",
     "text": [
      "[-0.27872697 -0.44446921  0.05870961]\n",
      "[ 0.61780114 -0.53913512  0.12816029]\n"
     ]
    }
   ],
   "source": [
    "# first col\n",
    "print(x[:, 0])\n",
    "\n",
    "# second col\n",
    "print(x[:, 1])"
   ]
  },
  {
   "cell_type": "code",
   "execution_count": 8,
   "metadata": {},
   "outputs": [
    {
     "data": {
      "text/plain": [
       "np.float64(-0.5391351184052131)"
      ]
     },
     "execution_count": 8,
     "metadata": {},
     "output_type": "execute_result"
    }
   ],
   "source": [
    "x[1, 1]"
   ]
  },
  {
   "cell_type": "code",
   "execution_count": 11,
   "metadata": {},
   "outputs": [
    {
     "name": "stdout",
     "output_type": "stream",
     "text": [
      "[[ 0.65976946  0.72157623  1.37577007  0.45959778 -1.51427195  0.19932787]\n",
      " [ 0.15956171  1.28009603 -1.61748646 -0.24772118  0.15602883 -1.30762491]\n",
      " [-1.01194583  0.41604107 -1.3851743   0.11143299  1.78424355  1.33088719]\n",
      " [ 0.55538857 -0.44117701 -0.88476334  0.34986214  0.93956562  1.4992289 ]\n",
      " [ 0.01418329  1.30866949  0.64411636  0.43915192 -2.05787426 -1.75010523]\n",
      " [ 0.59933002  0.34790839  0.5239151   1.11898509  0.37166819  1.78878765]]\n"
     ]
    },
    {
     "data": {
      "text/plain": [
       "array([[-0.24772118,  0.15602883],\n",
       "       [ 0.11143299,  1.78424355]])"
      ]
     },
     "execution_count": 11,
     "metadata": {},
     "output_type": "execute_result"
    }
   ],
   "source": [
    "y = np.random.randn(6, 6)\n",
    "print(y)\n",
    "\n",
    "# rows 1, 2 and cols 3, 4\n",
    "y[1:3, 3:5]"
   ]
  },
  {
   "cell_type": "code",
   "execution_count": 15,
   "metadata": {},
   "outputs": [
    {
     "name": "stdout",
     "output_type": "stream",
     "text": [
      "[[-0.27872697  0.61780114]\n",
      " [-0.44446921 -0.53913512]\n",
      " [ 0.05870961  0.12816029]]\n"
     ]
    }
   ],
   "source": [
    "# reshapes into given number of rows and columns\n",
    "z = y.reshape(12, 3)\n",
    "print(x)\n",
    "\n",
    "# has to have same number of elements\n",
    "# value error: a = y.reshape(2, 2)"
   ]
  },
  {
   "cell_type": "code",
   "execution_count": 21,
   "metadata": {},
   "outputs": [
    {
     "name": "stdout",
     "output_type": "stream",
     "text": [
      "[0. 0.]\n",
      "[[0. 0.]\n",
      " [0. 0.]]\n"
     ]
    }
   ],
   "source": [
    "# array of given number of zeros\n",
    "a1 = np.zeros(2)\n",
    "print(a1)\n",
    "\n",
    "# matriz of zeros, has to be in tuple\n",
    "b1 = np.zeros((2, 2))\n",
    "print(b1)"
   ]
  },
  {
   "cell_type": "code",
   "execution_count": 35,
   "metadata": {},
   "outputs": [
    {
     "name": "stdout",
     "output_type": "stream",
     "text": [
      "[[-0.30288421  0.05624404]\n",
      " [ 1.13549473 -1.14670268]]\n",
      "-0.25784812270284796\n",
      "[[0.         0.05624404]\n",
      " [1.13549473 0.        ]]\n",
      "[[0.73868463 1.05785581]\n",
      " [3.11271311 0.31768254]]\n"
     ]
    }
   ],
   "source": [
    "arr = np.random.randn(2, 2)\n",
    "print(arr)\n",
    "\n",
    "# sum all elements\n",
    "print(arr.sum())\n",
    "\n",
    "# replaces all elements with max of current element or 0\n",
    "# so negatives become 0\n",
    "print(np.maximum(arr, 0))\n",
    "\n",
    "print(np.exp(arr))"
   ]
  },
  {
   "cell_type": "markdown",
   "metadata": {},
   "source": [
    "## Matrix Addition\n",
    "- add each element elementwise\n",
    "    - (2 x 3) + (2 x 3) -> 2 x 3\n",
    "- broadcasting\n",
    "    - (2 x 3) + (1 x 3) -> (2 x 3)\n",
    "    - (2 x 3) + (2 x 1) -> (2 x 3)\n",
    "    - adding biases (1 x n) to a batch (m x n) works automatically\n",
    "- A + B = B + A"
   ]
  },
  {
   "cell_type": "code",
   "execution_count": 30,
   "metadata": {},
   "outputs": [
    {
     "name": "stdout",
     "output_type": "stream",
     "text": [
      "(2, 3)\n",
      "(2, 3)\n",
      "[[0.71738514 1.05872219 0.83736537]\n",
      " [1.11551162 0.8890593  0.10662393]]\n",
      "(2, 3)\n",
      "[[0.71738514 1.05872219 0.83736537]\n",
      " [1.11551162 0.8890593  0.10662393]]\n",
      "(2, 3)\n"
     ]
    }
   ],
   "source": [
    "A = np.random.rand(2, 3)\n",
    "B = np.random.rand(2, 3)\n",
    "C = A + B\n",
    "D = B + A\n",
    "print(A.shape)\n",
    "print(B.shape)\n",
    "print(C)\n",
    "print(C.shape)\n",
    "print(D)\n",
    "print(D.shape)"
   ]
  },
  {
   "cell_type": "code",
   "execution_count": 34,
   "metadata": {},
   "outputs": [
    {
     "name": "stdout",
     "output_type": "stream",
     "text": [
      "[[0.76072504 0.75189813 0.30777848]\n",
      " [0.82032629 0.14067714 0.70370944]]\n",
      "[[0.65654149 1.28584692 0.6833983 ]\n",
      " [0.30596695 0.26445014 0.66915346]]\n"
     ]
    }
   ],
   "source": [
    "A = np.random.rand(2, 3)\n",
    "B = np.random.rand(1, 3)\n",
    "C = np.random.rand(2, 1)\n",
    "\n",
    "print(A + B)\n",
    "print(A + C)"
   ]
  },
  {
   "cell_type": "markdown",
   "metadata": {},
   "source": [
    "## Matrix Multiplication (@ or np.dot)\n",
    "- the inner dimensions must match\n",
    "    - yes: (2 x 4) @ (4 x 2) = (2, 2)\n",
    "    - no: (2 x 3) @ (2 x 4)\n",
    "\n",
    "- row-col multiplication (2 x 4) @ (4 x 2)\n",
    "    - first row with all columns\n",
    "    - second row with all columns\n",
    "    1. row 1 of A with col 1 of B\n",
    "    2. row 1 of A with col 2 of B\n",
    "    3. row 2 of A with col 1 of B\n",
    "    4. row 2 of A with col 2 of B\n",
    "\n",
    "- A x B != B x A"
   ]
  },
  {
   "cell_type": "code",
   "execution_count": 29,
   "metadata": {},
   "outputs": [
    {
     "name": "stdout",
     "output_type": "stream",
     "text": [
      "(2, 4)\n",
      "(4, 2)\n",
      "[[-2.76255661 -0.92527852]\n",
      " [ 1.29401888 -0.20477171]]\n",
      "(2, 2)\n",
      "[[-0.29446533 -0.06452548 -1.43451425  0.18756028]\n",
      " [-2.85462899 -1.66929334  1.00132123  1.15262894]\n",
      " [ 0.24291973  0.18820601 -0.74442555 -0.06865123]\n",
      " [ 0.77578037  0.53847919 -1.48370764 -0.25914411]]\n",
      "(4, 4)\n"
     ]
    }
   ],
   "source": [
    "A = np.random.randn(2, 4)\n",
    "B = np.random.randn(4, 2)\n",
    "C = A @ B\n",
    "D = B @ A\n",
    "print(A.shape)\n",
    "print(B.shape)\n",
    "print(C)\n",
    "print(C.shape)\n",
    "print(D)\n",
    "print(D.shape)"
   ]
  }
 ],
 "metadata": {
  "kernelspec": {
   "display_name": "venv",
   "language": "python",
   "name": "python3"
  },
  "language_info": {
   "codemirror_mode": {
    "name": "ipython",
    "version": 3
   },
   "file_extension": ".py",
   "mimetype": "text/x-python",
   "name": "python",
   "nbconvert_exporter": "python",
   "pygments_lexer": "ipython3",
   "version": "3.13.5"
  }
 },
 "nbformat": 4,
 "nbformat_minor": 2
}
